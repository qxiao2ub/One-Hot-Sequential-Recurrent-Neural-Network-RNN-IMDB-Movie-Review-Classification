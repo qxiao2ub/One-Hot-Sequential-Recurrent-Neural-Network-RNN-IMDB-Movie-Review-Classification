{
 "cells": [
  {
   "cell_type": "markdown",
   "id": "d7f6077e",
   "metadata": {},
   "source": [
    "# IMDB Movie Review Classification: One‑Hot Sequential RNN (`num_words=200`)\n",
    "\n",
    "This notebook modifies the preprocessing so that **each input is a sequence of vectors** and the resulting `x_train` has shape **(25000, 500, 200)**:\n",
    "\n",
    "- **25,000** training samples\n",
    "- **500** time steps per review (reviews are padded/truncated to 500 tokens)\n",
    "- **200** features per time step (one‑hot over the 200 most frequent words)\n",
    "\n",
    "train a **recurrent network** (Bidirectional GRU by default), plot training/validation accuracy, pick the best epoch by validation accuracy, retrain on train+val, and report the final **test accuracy**.\n"
   ]
  },
  {
   "cell_type": "code",
   "execution_count": 1,
   "id": "438368bd",
   "metadata": {},
   "outputs": [
    {
     "name": "stdout",
     "output_type": "stream",
     "text": [
      "2.11.0\n"
     ]
    }
   ],
   "source": [
    "# Setup\n",
    "import numpy as np\n",
    "import matplotlib.pyplot as plt\n",
    "import tensorflow as tf\n",
    "from tensorflow import keras\n",
    "from tensorflow.keras import layers\n",
    "from sklearn.model_selection import train_test_split\n",
    "\n",
    "print(tf.__version__)"
   ]
  },
  {
   "cell_type": "markdown",
   "id": "6a75878f",
   "metadata": {},
   "source": [
    "Load IMDB and prepare one‑hot sequential inputs"
   ]
  },
  {
   "cell_type": "code",
   "execution_count": 2,
   "id": "84a2d50f",
   "metadata": {},
   "outputs": [
    {
     "data": {
      "text/plain": [
       "(TensorShape([25000, 500, 200]),\n",
       " TensorShape([25000, 500, 200]),\n",
       " (25000,),\n",
       " (25000,))"
      ]
     },
     "execution_count": 2,
     "metadata": {},
     "output_type": "execute_result"
    }
   ],
   "source": [
    "# Parameters\n",
    "NUM_WORDS = 200       \n",
    "SEQ_LEN   = 500       \n",
    "VAL_SIZE  = 10000     \n",
    "BATCH     = 256\n",
    "EPOCHS    = 7     \n",
    "\n",
    "# Load IMDB with vocabulary capped at 200 most frequent words\n",
    "(x_train_ids, y_train), (x_test_ids, y_test) = keras.datasets.imdb.load_data(num_words=NUM_WORDS)\n",
    "\n",
    "# Pad/truncate integer sequences to length SEQ_LEN\n",
    "x_train_ids = keras.preprocessing.sequence.pad_sequences(x_train_ids, maxlen=SEQ_LEN, truncating='pre', padding='pre')\n",
    "x_test_ids  = keras.preprocessing.sequence.pad_sequences(x_test_ids,  maxlen=SEQ_LEN, truncating='pre', padding='pre')\n",
    "\n",
    "x_train = tf.one_hot(x_train_ids, depth=NUM_WORDS, dtype=tf.float32)  \n",
    "x_test  = tf.one_hot(x_test_ids,  depth=NUM_WORDS, dtype=tf.float32) \n",
    "\n",
    "x_train.shape, x_test.shape, y_train.shape, y_test.shape"
   ]
  },
  {
   "cell_type": "markdown",
   "id": "e6982056",
   "metadata": {},
   "source": [
    "Train/Validation split (temporal order preserved)"
   ]
  },
  {
   "cell_type": "code",
   "execution_count": 3,
   "id": "c51e146d",
   "metadata": {},
   "outputs": [
    {
     "data": {
      "text/plain": [
       "(TensorShape([15000, 500, 200]),\n",
       " TensorShape([10000, 500, 200]),\n",
       " (15000,),\n",
       " (10000,))"
      ]
     },
     "execution_count": 3,
     "metadata": {},
     "output_type": "execute_result"
    }
   ],
   "source": [
    "# hold out the last VAL_SIZE samples of the original training set for validation\n",
    "x_tr, x_val = x_train[:-VAL_SIZE], x_train[-VAL_SIZE:]\n",
    "y_tr, y_val = y_train[:-VAL_SIZE], y_train[-VAL_SIZE:]\n",
    "\n",
    "x_tr.shape, x_val.shape, y_tr.shape, y_val.shape"
   ]
  },
  {
   "cell_type": "markdown",
   "id": "2b3d040b",
   "metadata": {},
   "source": [
    "Build a recurrent model"
   ]
  },
  {
   "cell_type": "code",
   "execution_count": 4,
   "id": "cb87037f",
   "metadata": {},
   "outputs": [
    {
     "name": "stdout",
     "output_type": "stream",
     "text": [
      "Model: \"sequential\"\n",
      "_________________________________________________________________\n",
      " Layer (type)                Output Shape              Param #   \n",
      "=================================================================\n",
      " bidirectional (Bidirectiona  (None, 128)              102144    \n",
      " l)                                                              \n",
      "                                                                 \n",
      " dense (Dense)               (None, 64)                8256      \n",
      "                                                                 \n",
      " dropout (Dropout)           (None, 64)                0         \n",
      "                                                                 \n",
      " dense_1 (Dense)             (None, 1)                 65        \n",
      "                                                                 \n",
      "=================================================================\n",
      "Total params: 110,465\n",
      "Trainable params: 110,465\n",
      "Non-trainable params: 0\n",
      "_________________________________________________________________\n"
     ]
    }
   ],
   "source": [
    "def build_rnn_model():\n",
    "    model = keras.Sequential([\n",
    "        layers.Input(shape=(SEQ_LEN, NUM_WORDS)),\n",
    "        # Regularization helps generalization with tiny vocab\n",
    "        layers.Bidirectional(layers.GRU(64, return_sequences=False, dropout=0.2, recurrent_dropout=0.2)),\n",
    "        layers.Dense(64, activation='relu'),\n",
    "        layers.Dropout(0.2),\n",
    "        layers.Dense(1, activation='sigmoid'),\n",
    "    ])\n",
    "    model.compile(optimizer=keras.optimizers.Adam(1e-3),\n",
    "                  loss='binary_crossentropy',\n",
    "                  metrics=['accuracy'])\n",
    "    return model\n",
    "\n",
    "model = build_rnn_model()\n",
    "model.summary()"
   ]
  },
  {
   "cell_type": "markdown",
   "id": "c9432586",
   "metadata": {},
   "source": [
    "Train with validation, plot accuracy, and pick best epoch"
   ]
  },
  {
   "cell_type": "code",
   "execution_count": 5,
   "id": "d263274d",
   "metadata": {},
   "outputs": [
    {
     "name": "stdout",
     "output_type": "stream",
     "text": [
      "Epoch 1/7\n",
      "59/59 [==============================] - 704s 12s/step - loss: 0.6907 - accuracy: 0.5294 - val_loss: 0.6853 - val_accuracy: 0.5497\n",
      "Epoch 2/7\n",
      "59/59 [==============================] - 828s 14s/step - loss: 0.6635 - accuracy: 0.6042 - val_loss: 0.6418 - val_accuracy: 0.6329\n",
      "Epoch 3/7\n",
      "59/59 [==============================] - 843s 14s/step - loss: 0.6059 - accuracy: 0.6730 - val_loss: 0.5484 - val_accuracy: 0.7268\n",
      "Epoch 4/7\n",
      "59/59 [==============================] - 804s 14s/step - loss: 0.5840 - accuracy: 0.6951 - val_loss: 0.5379 - val_accuracy: 0.7277\n",
      "Epoch 5/7\n",
      "59/59 [==============================] - 904s 15s/step - loss: 0.5483 - accuracy: 0.7285 - val_loss: 0.5041 - val_accuracy: 0.7595\n",
      "Epoch 6/7\n",
      "59/59 [==============================] - 878s 15s/step - loss: 0.5230 - accuracy: 0.7468 - val_loss: 0.5151 - val_accuracy: 0.7453\n",
      "Epoch 7/7\n",
      "59/59 [==============================] - 852s 14s/step - loss: 0.5181 - accuracy: 0.7492 - val_loss: 0.4970 - val_accuracy: 0.7597\n"
     ]
    },
    {
     "data": {
      "image/png": "[encoded data removed]",
      "text/plain": [
       "<Figure size 576x288 with 1 Axes>"
      ]
     },
     "metadata": {
      "needs_background": "light"
     },
     "output_type": "display_data"
    },
    {
     "name": "stdout",
     "output_type": "stream",
     "text": [
      "Best epoch by validation accuracy: 7\n"
     ]
    }
   ],
   "source": [
    "early = keras.callbacks.EarlyStopping(monitor='val_accuracy', patience=3, mode='max', restore_best_weights=True)\n",
    "\n",
    "history = model.fit(\n",
    "    x_tr, y_tr,\n",
    "    validation_data=(x_val, y_val),\n",
    "    epochs=EPOCHS,\n",
    "    batch_size=BATCH,\n",
    "    verbose=1,\n",
    "    callbacks=[early]\n",
    ")\n",
    "\n",
    "acc     = history.history['accuracy']\n",
    "val_acc = history.history['val_accuracy']\n",
    "epochs  = range(1, len(acc) + 1)\n",
    "\n",
    "import matplotlib.pyplot as plt\n",
    "plt.figure(figsize=(8,4))\n",
    "plt.plot(epochs, acc, label='Training accuracy')\n",
    "plt.plot(epochs, val_acc, label='Validation accuracy')\n",
    "plt.xlabel('Epochs')\n",
    "plt.ylabel('Accuracy')\n",
    "plt.title('Training vs Validation Accuracy (one‑hot sequence input)')\n",
    "plt.legend()\n",
    "plt.tight_layout()\n",
    "plt.show()\n",
    "\n",
    "best_epoch = int(np.argmax(val_acc)) + 1\n",
    "print(f'Best epoch by validation accuracy: {best_epoch}')"
   ]
  },
  {
   "cell_type": "markdown",
   "id": "6a4bb130",
   "metadata": {},
   "source": [
    "## What do `x_train[0]` and `x_train[0,0]` represent now?\n",
    "\n",
    "- `x_train[0]` is a **sequence** (length 500) of **one‑hot vectors** for the **first training review**. Its shape is `(500, 200)`: each time step corresponds to a token position in the review (after padding/truncation), and each 200‑dimensional vector is a one‑hot indicator over the top‑200 vocabulary.\n",
    "- `x_train[0, 0]` is the **first time step vector** of that review, i.e., a 200‑dimensional **one‑hot vector** where a single index is `1.0` (the token ID at that position) and all others are `0.0`. If the position was padded, it may be the ID reserved for padding (depending on loader/tokenizer conventions).\n"
   ]
  }
 ],
 "metadata": {
  "kernelspec": {
   "display_name": "Python 3",
   "language": "python",
   "name": "python3"
  },
  "language_info": {
   "codemirror_mode": {
    "name": "ipython",
    "version": 3
   },
   "file_extension": ".py",
   "mimetype": "text/x-python",
   "name": "python",
   "nbconvert_exporter": "python",
   "pygments_lexer": "ipython3",
   "version": "3.7.6"
  }
 },
 "nbformat": 4,
 "nbformat_minor": 5
}
